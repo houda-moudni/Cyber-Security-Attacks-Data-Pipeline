{
 "cells": [
  {
   "cell_type": "markdown",
   "metadata": {
    "application/vnd.databricks.v1+cell": {
     "cellMetadata": {},
     "inputWidgets": {},
     "nuid": "7ce9fadb-5725-4168-82da-24d90db7393a",
     "showTitle": false,
     "tableResultSettingsMap": {},
     "title": ""
    }
   },
   "source": [
    "# Data Cleaning : _From Bronze Layer to Silver Layer_"
   ]
  },
  {
   "cell_type": "markdown",
   "metadata": {
    "application/vnd.databricks.v1+cell": {
     "cellMetadata": {},
     "inputWidgets": {},
     "nuid": "2721ce73-89ab-4937-a316-e0c7b690140e",
     "showTitle": false,
     "tableResultSettingsMap": {},
     "title": ""
    }
   },
   "source": [
    "**Mount the data csv file from the Azure Storage `StorageAccount` Container `Bronze_container`**\n",
    "***"
   ]
  },
  {
   "cell_type": "code",
   "execution_count": 0,
   "metadata": {
    "application/vnd.databricks.v1+cell": {
     "cellMetadata": {
      "byteLimit": 2048000,
      "rowLimit": 10000
     },
     "inputWidgets": {},
     "nuid": "1054ab4b-a171-4487-96aa-6958758f7fd3",
     "showTitle": false,
     "tableResultSettingsMap": {},
     "title": ""
    }
   },
   "outputs": [],
   "source": [
    "dbutils.fs.mount(\n",
    "    source='wasbs://bronze_container@Storage_account.blob.core.windows.net',\n",
    "    mount_point='/mnt/bronze_container',\n",
    "    extra_configs={'fs.azure.account.key.Storage_account.blob.core.windows.net': dbutils.secrets.get('databricksScope', 'MyStorageAccountKey')}\n",
    ")\n",
    "\n",
    "dbutils.fs.mount(\n",
    "    source='wasbs://silver_container@Storage_account.blob.core.windows.net',\n",
    "    mount_point='/mnt/silver_container',\n",
    "    extra_configs={'fs.azure.account.key.Storage_account.blob.core.windows.net': dbutils.secrets.get('databricksScope', 'MyStorageAccountKey')}\n",
    ")"
   ]
  },
  {
   "cell_type": "code",
   "execution_count": 0,
   "metadata": {
    "application/vnd.databricks.v1+cell": {
     "cellMetadata": {
      "byteLimit": 2048000,
      "rowLimit": 10000
     },
     "inputWidgets": {},
     "nuid": "4ecd333d-c05b-4e3a-8695-9bd6e3c4d2ed",
     "showTitle": false,
     "tableResultSettingsMap": {},
     "title": ""
    }
   },
   "outputs": [
    {
     "data": {
      "text/plain": [
       "[FileInfo(path='dbfs:/mnt/bronze/', name='bronze/', size=0, modificationTime=0),\n",
       " FileInfo(path='dbfs:/mnt/gold/', name='gold/', size=0, modificationTime=0),\n",
       " FileInfo(path='dbfs:/mnt/silver/', name='silver/', size=0, modificationTime=0)]"
      ]
     },
     "execution_count": 6,
     "metadata": {},
     "output_type": "execute_result"
    }
   ],
   "source": [
    "dbutils.fs.ls('/mnt')"
   ]
  },
  {
   "cell_type": "markdown",
   "metadata": {
    "application/vnd.databricks.v1+cell": {
     "cellMetadata": {},
     "inputWidgets": {},
     "nuid": "72d6982f-50f9-43d6-9402-625c652c2c2e",
     "showTitle": false,
     "tableResultSettingsMap": {},
     "title": ""
    }
   },
   "source": [
    "**Initialize Spark**\n",
    "***"
   ]
  },
  {
   "cell_type": "code",
   "execution_count": 0,
   "metadata": {
    "application/vnd.databricks.v1+cell": {
     "cellMetadata": {
      "byteLimit": 2048000,
      "rowLimit": 10000
     },
     "inputWidgets": {},
     "nuid": "505cf040-03a9-4754-b9eb-736397c871cf",
     "showTitle": false,
     "tableResultSettingsMap": {},
     "title": ""
    }
   },
   "outputs": [
    {
     "data": {
      "text/html": [
       "\n",
       "            <div>\n",
       "                <p><b>SparkSession - hive</b></p>\n",
       "                \n",
       "        <div>\n",
       "            <p><b>SparkContext</b></p>\n",
       "\n",
       "            <p><a href=\"/?o=2327204635270963#setting/sparkui/1029-162955-rcyi5qu3/driver-1072717059406967592\">Spark UI</a></p>\n",
       "\n",
       "            <dl>\n",
       "              <dt>Version</dt>\n",
       "                <dd><code>v3.5.0</code></dd>\n",
       "              <dt>Master</dt>\n",
       "                <dd><code>local[*, 4]</code></dd>\n",
       "              <dt>AppName</dt>\n",
       "                <dd><code>Databricks Shell</code></dd>\n",
       "            </dl>\n",
       "        </div>\n",
       "        \n",
       "            </div>\n",
       "        "
      ],
      "text/plain": [
       "<pyspark.sql.session.SparkSession at 0x7f416e92fc90>"
      ]
     },
     "execution_count": 7,
     "metadata": {},
     "output_type": "execute_result"
    }
   ],
   "source": [
    "spark"
   ]
  },
  {
   "cell_type": "markdown",
   "metadata": {
    "application/vnd.databricks.v1+cell": {
     "cellMetadata": {
      "byteLimit": 2048000,
      "rowLimit": 10000
     },
     "inputWidgets": {},
     "nuid": "94261d04-6c8e-48a5-94ab-bb450a4e8d11",
     "showTitle": false,
     "tableResultSettingsMap": {},
     "title": ""
    }
   },
   "source": [
    "**Basic data exploration**\n",
    "***\n",
    "- _Reading the data from a csv File_\n",
    "- _printing the shape of the dataframe_\n",
    "- _printing the schema of the dataframe_"
   ]
  },
  {
   "cell_type": "code",
   "execution_count": 0,
   "metadata": {
    "application/vnd.databricks.v1+cell": {
     "cellMetadata": {
      "byteLimit": 2048000,
      "rowLimit": 10000
     },
     "inputWidgets": {},
     "nuid": "2c285033-b13a-4beb-aecf-2f7ee3b8e85d",
     "showTitle": false,
     "tableResultSettingsMap": {},
     "title": ""
    }
   },
   "outputs": [],
   "source": [
    "from pyspark.sql.functions import col, sum, when"
   ]
  },
  {
   "cell_type": "markdown",
   "metadata": {
    "application/vnd.databricks.v1+cell": {
     "cellMetadata": {},
     "inputWidgets": {},
     "nuid": "79d2933b-3420-46dd-b7cb-5fbda27c223d",
     "showTitle": false,
     "tableResultSettingsMap": {},
     "title": ""
    }
   },
   "source": [
    "- Reading the store csv file in Azure Data Storage Container `Bronze`"
   ]
  },
  {
   "cell_type": "code",
   "execution_count": 0,
   "metadata": {
    "application/vnd.databricks.v1+cell": {
     "cellMetadata": {
      "byteLimit": 2048000,
      "rowLimit": 10000
     },
     "inputWidgets": {},
     "nuid": "9c7ff9fc-3b1e-413f-badd-b84ca400f900",
     "showTitle": false,
     "tableResultSettingsMap": {},
     "title": ""
    }
   },
   "outputs": [],
   "source": [
    "csv_file_path = \"dbfs:/mnt/bronze/raw_cyber_attack_data.csv\"\n",
    "df = spark.read.option(\"delimiter\",\",\").option(\"wholeFile\",True).option(\"multiline\",True).option(\"header\",True).option(\"inferSchema\",True).csv(csv_file_path)"
   ]
  },
  {
   "cell_type": "code",
   "execution_count": 0,
   "metadata": {
    "application/vnd.databricks.v1+cell": {
     "cellMetadata": {
      "byteLimit": 2048000,
      "rowLimit": 10000
     },
     "inputWidgets": {},
     "nuid": "c542c257-0eaa-4a60-9231-39de4670fcf1",
     "showTitle": false,
     "tableResultSettingsMap": {},
     "title": ""
    }
   },
   "outputs": [
    {
     "name": "stdout",
     "output_type": "stream",
     "text": [
      "Shape of DataFrame: 40000 rows, 25 columns\n"
     ]
    }
   ],
   "source": [
    "print(f\"Shape of DataFrame: {df.count()} rows, {len(df.columns)} columns\")"
   ]
  },
  {
   "cell_type": "code",
   "execution_count": 0,
   "metadata": {
    "application/vnd.databricks.v1+cell": {
     "cellMetadata": {
      "byteLimit": 2048000,
      "rowLimit": 10000
     },
     "inputWidgets": {},
     "nuid": "c8e23e17-13e1-407c-909a-c3f4a607f6d3",
     "showTitle": false,
     "tableResultSettingsMap": {},
     "title": ""
    }
   },
   "outputs": [
    {
     "name": "stdout",
     "output_type": "stream",
     "text": [
      "root\n",
      " |-- Timestamp: timestamp (nullable = true)\n",
      " |-- Source IP Address: string (nullable = true)\n",
      " |-- Destination IP Address: string (nullable = true)\n",
      " |-- Source Port: integer (nullable = true)\n",
      " |-- Destination Port: integer (nullable = true)\n",
      " |-- Protocol: string (nullable = true)\n",
      " |-- Packet Length: integer (nullable = true)\n",
      " |-- Packet Type: string (nullable = true)\n",
      " |-- Traffic Type: string (nullable = true)\n",
      " |-- Payload Data: string (nullable = true)\n",
      " |-- Malware Indicators: string (nullable = true)\n",
      " |-- Anomaly Scores: double (nullable = true)\n",
      " |-- Alerts/Warnings: string (nullable = true)\n",
      " |-- Attack Type: string (nullable = true)\n",
      " |-- Attack Signature: string (nullable = true)\n",
      " |-- Action Taken: string (nullable = true)\n",
      " |-- Severity Level: string (nullable = true)\n",
      " |-- User Information: string (nullable = true)\n",
      " |-- Device Information: string (nullable = true)\n",
      " |-- Network Segment: string (nullable = true)\n",
      " |-- Geo-location Data: string (nullable = true)\n",
      " |-- Proxy Information: string (nullable = true)\n",
      " |-- Firewall Logs: string (nullable = true)\n",
      " |-- IDS/IPS Alerts: string (nullable = true)\n",
      " |-- Log Source: string (nullable = true)\n",
      "\n"
     ]
    }
   ],
   "source": [
    "df.printSchema()"
   ]
  },
  {
   "cell_type": "code",
   "execution_count": 0,
   "metadata": {
    "application/vnd.databricks.v1+cell": {
     "cellMetadata": {
      "byteLimit": 2048000,
      "rowLimit": 10000
     },
     "inputWidgets": {},
     "nuid": "2348b160-e1d3-4819-b1e5-b3155b1ae3e9",
     "showTitle": false,
     "tableResultSettingsMap": {},
     "title": ""
    }
   },
   "outputs": [
    {
     "name": "stdout",
     "output_type": "stream",
     "text": [
      "+-------------------+-----------------+----------------------+-----------+----------------+--------+-------------+-----------+------------+--------------------+------------------+--------------+---------------+-----------+----------------+------------+--------------+----------------+--------------------+---------------+------------------+-----------------+-------------+--------------+----------+\n",
      "|          Timestamp|Source IP Address|Destination IP Address|Source Port|Destination Port|Protocol|Packet Length|Packet Type|Traffic Type|        Payload Data|Malware Indicators|Anomaly Scores|Alerts/Warnings|Attack Type|Attack Signature|Action Taken|Severity Level|User Information|  Device Information|Network Segment| Geo-location Data|Proxy Information|Firewall Logs|IDS/IPS Alerts|Log Source|\n",
      "+-------------------+-----------------+----------------------+-----------+----------------+--------+-------------+-----------+------------+--------------------+------------------+--------------+---------------+-----------+----------------+------------+--------------+----------------+--------------------+---------------+------------------+-----------------+-------------+--------------+----------+\n",
      "|2023-05-30 06:33:58|    103.216.15.12|          84.9.164.252|      31225|           17616|    ICMP|          503|       Data|        HTTP|Qui natus odio as...|      IoC Detected|         28.67|           NULL|    Malware| Known Pattern B|      Logged|           Low|   Reyansh Dugal|Mozilla/5.0 (comp...|      Segment A|Jamshedpur, Sikkim|     150.9.97.135|     Log Data|          NULL|    Server|\n",
      "|2020-08-26 07:08:30|   78.199.217.198|        66.191.137.154|      17245|           48166|    ICMP|         1174|       Data|        HTTP|Aperiam quos modi...|      IoC Detected|          51.5|           NULL|    Malware| Known Pattern A|     Blocked|           Low|      Sumer Rana|Mozilla/5.0 (comp...|      Segment B|Bilaspur, Nagaland|             NULL|     Log Data|          NULL|  Firewall|\n",
      "|2022-11-13 08:23:25|     63.79.210.48|         198.219.82.17|      16811|           53600|     UDP|          306|    Control|        HTTP|Perferendis sapie...|      IoC Detected|         87.42|Alert Triggered|       DDoS| Known Pattern B|     Ignored|           Low|    Himmat Karpe|Mozilla/5.0 (comp...|      Segment C| Bokaro, Rajasthan|   114.133.48.179|     Log Data|    Alert Data|  Firewall|\n",
      "|2023-07-02 10:38:46|    163.42.196.10|       101.228.192.255|      20018|           32534|     UDP|          385|       Data|        HTTP|Totam maxime beat...|              NULL|         15.79|Alert Triggered|    Malware| Known Pattern B|     Blocked|        Medium|      Fateh Kibe|Mozilla/5.0 (Maci...|      Segment B|Jaunpur, Rajasthan|             NULL|         NULL|    Alert Data|  Firewall|\n",
      "|2023-07-16 13:11:07|    71.166.185.76|       189.243.174.238|       6131|           26646|     TCP|         1462|       Data|         DNS|Odit nesciunt dol...|              NULL|          0.52|Alert Triggered|       DDoS| Known Pattern B|     Blocked|           Low|    Dhanush Chad|Mozilla/5.0 (comp...|      Segment C|Anantapur, Tripura|    149.6.110.119|         NULL|    Alert Data|  Firewall|\n",
      "+-------------------+-----------------+----------------------+-----------+----------------+--------+-------------+-----------+------------+--------------------+------------------+--------------+---------------+-----------+----------------+------------+--------------+----------------+--------------------+---------------+------------------+-----------------+-------------+--------------+----------+\n",
      "only showing top 5 rows\n",
      "\n"
     ]
    }
   ],
   "source": [
    "df.show(5)"
   ]
  },
  {
   "cell_type": "code",
   "execution_count": 0,
   "metadata": {
    "application/vnd.databricks.v1+cell": {
     "cellMetadata": {
      "byteLimit": 2048000,
      "rowLimit": 10000
     },
     "inputWidgets": {},
     "nuid": "ec8c03e1-bbff-4c16-9dc0-490f3f356cf7",
     "showTitle": false,
     "tableResultSettingsMap": {},
     "title": ""
    }
   },
   "outputs": [
    {
     "name": "stdout",
     "output_type": "stream",
     "text": [
      "Timestamp                      0\n",
      "Source IP Address              0\n",
      "Destination IP Address         0\n",
      "Source Port                    0\n",
      "Destination Port               0\n",
      "Protocol                       0\n",
      "Packet Length                  0\n",
      "Packet Type                    0\n",
      "Traffic Type                   0\n",
      "Payload Data                   0\n",
      "Malware Indicators             20000\n",
      "Anomaly Scores                 0\n",
      "Alerts/Warnings                20067\n",
      "Attack Type                    0\n",
      "Attack Signature               0\n",
      "Action Taken                   0\n",
      "Severity Level                 0\n",
      "User Information               0\n",
      "Device Information             0\n",
      "Network Segment                0\n",
      "Geo-location Data              0\n",
      "Proxy Information              19851\n",
      "Firewall Logs                  19961\n",
      "IDS/IPS Alerts                 20050\n",
      "Log Source                     0\n"
     ]
    }
   ],
   "source": [
    "for c in df.columns:\n",
    "    null_count = df.select(sum(when(col(c).isNull(), 1).otherwise(0)).alias(\"null_count\")).collect()[0][0]\n",
    "    print(f\"{c:<30} {null_count}\")"
   ]
  },
  {
   "cell_type": "markdown",
   "metadata": {
    "application/vnd.databricks.v1+cell": {
     "cellMetadata": {
      "byteLimit": 2048000,
      "rowLimit": 10000
     },
     "inputWidgets": {},
     "nuid": "0691ccb9-81f2-4185-adb6-e2787ae17d0d",
     "showTitle": false,
     "tableResultSettingsMap": {},
     "title": ""
    }
   },
   "source": [
    "**Silver Layer : handling NaN values**\n",
    "***"
   ]
  },
  {
   "cell_type": "markdown",
   "metadata": {
    "application/vnd.databricks.v1+cell": {
     "cellMetadata": {},
     "inputWidgets": {},
     "nuid": "d0ee0910-195b-4079-9bd2-48c1c3c05d7a",
     "showTitle": false,
     "tableResultSettingsMap": {},
     "title": ""
    }
   },
   "source": [
    "- Replacing any null values in the `Alerts/Warnings` column into **No** and the existing ones into **Yes**"
   ]
  },
  {
   "cell_type": "code",
   "execution_count": 0,
   "metadata": {
    "application/vnd.databricks.v1+cell": {
     "cellMetadata": {
      "byteLimit": 2048000,
      "rowLimit": 10000
     },
     "inputWidgets": {},
     "nuid": "2524a8ac-d1dc-4ed4-a4a9-19c6c1098371",
     "showTitle": false,
     "tableResultSettingsMap": {},
     "title": ""
    }
   },
   "outputs": [],
   "source": [
    "df = df.withColumn('Alerts/Warnings', when(df['Alerts/Warnings'] == 'Alert Triggered', 'yes').otherwise('no'))"
   ]
  },
  {
   "cell_type": "markdown",
   "metadata": {
    "application/vnd.databricks.v1+cell": {
     "cellMetadata": {},
     "inputWidgets": {},
     "nuid": "4d5a24f2-4f24-4fd7-a24a-e9fd2df9e52d",
     "showTitle": false,
     "tableResultSettingsMap": {},
     "title": ""
    }
   },
   "source": [
    "- Replacing any null values in the `Malware Indicators` column with **No Detection**"
   ]
  },
  {
   "cell_type": "code",
   "execution_count": 0,
   "metadata": {
    "application/vnd.databricks.v1+cell": {
     "cellMetadata": {
      "byteLimit": 2048000,
      "rowLimit": 10000
     },
     "inputWidgets": {},
     "nuid": "fa44f609-ce5e-4f7d-8b80-f3deb3b50d81",
     "showTitle": false,
     "tableResultSettingsMap": {},
     "title": ""
    }
   },
   "outputs": [],
   "source": [
    "df = df.withColumn('Malware Indicators', when((col('Malware Indicators').isNull()) | (col('Malware Indicators') == ''), 'No Detection').otherwise(col('Malware Indicators'))\n",
    ")"
   ]
  },
  {
   "cell_type": "markdown",
   "metadata": {
    "application/vnd.databricks.v1+cell": {
     "cellMetadata": {},
     "inputWidgets": {},
     "nuid": "cb040822-2618-4257-b907-0bfc834a6729",
     "showTitle": false,
     "tableResultSettingsMap": {},
     "title": ""
    }
   },
   "source": [
    "- Replacing any null values in the `Firewall Logs` column with **No Data**"
   ]
  },
  {
   "cell_type": "code",
   "execution_count": 0,
   "metadata": {
    "application/vnd.databricks.v1+cell": {
     "cellMetadata": {
      "byteLimit": 2048000,
      "rowLimit": 10000
     },
     "inputWidgets": {},
     "nuid": "d9f0b6df-0801-44fe-ade4-8c7448793bf9",
     "showTitle": false,
     "tableResultSettingsMap": {},
     "title": ""
    }
   },
   "outputs": [],
   "source": [
    "df = df.withColumn('Firewall Logs', when((col('Firewall Logs').isNull()) | (col('Firewall Logs') == ''), 'No Data').otherwise(col('Firewall Logs'))\n",
    ")"
   ]
  },
  {
   "cell_type": "markdown",
   "metadata": {
    "application/vnd.databricks.v1+cell": {
     "cellMetadata": {},
     "inputWidgets": {},
     "nuid": "828414f4-df38-44dc-949c-485536e6ddad",
     "showTitle": false,
     "tableResultSettingsMap": {},
     "title": ""
    }
   },
   "source": [
    "- Replacing any null values in the `IDS/IPS Alerts` column with **No Data**"
   ]
  },
  {
   "cell_type": "code",
   "execution_count": 0,
   "metadata": {
    "application/vnd.databricks.v1+cell": {
     "cellMetadata": {
      "byteLimit": 2048000,
      "rowLimit": 10000
     },
     "inputWidgets": {},
     "nuid": "f78470bc-5271-4626-a768-78abc9b5355d",
     "showTitle": false,
     "tableResultSettingsMap": {},
     "title": ""
    }
   },
   "outputs": [],
   "source": [
    "df = df.withColumn('IDS/IPS Alerts', when((col('IDS/IPS Alerts').isNull()) | (col('IDS/IPS Alerts') == ''), 'No Data').otherwise(col('IDS/IPS Alerts'))\n",
    ")"
   ]
  },
  {
   "cell_type": "markdown",
   "metadata": {
    "application/vnd.databricks.v1+cell": {
     "cellMetadata": {},
     "inputWidgets": {},
     "nuid": "25289802-0309-44fb-b941-1258fb6f2141",
     "showTitle": false,
     "tableResultSettingsMap": {},
     "title": ""
    }
   },
   "source": [
    "- Replacing any null values in the `Proxy Information` column with **No Data**"
   ]
  },
  {
   "cell_type": "code",
   "execution_count": 0,
   "metadata": {
    "application/vnd.databricks.v1+cell": {
     "cellMetadata": {
      "byteLimit": 2048000,
      "rowLimit": 10000
     },
     "inputWidgets": {},
     "nuid": "559b5f3d-0622-4157-aa35-13edb3ad3eea",
     "showTitle": false,
     "tableResultSettingsMap": {},
     "title": ""
    }
   },
   "outputs": [],
   "source": [
    "df = df.withColumn('Proxy Information', when((col('Proxy Information').isNull()) | (col('Proxy Information') == ''), 'No Proxy').otherwise(col('Proxy Information'))\n",
    ")"
   ]
  },
  {
   "cell_type": "markdown",
   "metadata": {
    "application/vnd.databricks.v1+cell": {
     "cellMetadata": {},
     "inputWidgets": {},
     "nuid": "114c793b-59e0-41dd-ac0a-490037418b1a",
     "showTitle": false,
     "tableResultSettingsMap": {},
     "title": ""
    }
   },
   "source": [
    "- Checking one more time the existance of the null values"
   ]
  },
  {
   "cell_type": "code",
   "execution_count": 0,
   "metadata": {
    "application/vnd.databricks.v1+cell": {
     "cellMetadata": {
      "byteLimit": 2048000,
      "rowLimit": 10000
     },
     "inputWidgets": {},
     "nuid": "9ebd7410-b8f0-49b3-b214-46a745f53870",
     "showTitle": false,
     "tableResultSettingsMap": {},
     "title": ""
    }
   },
   "outputs": [
    {
     "name": "stdout",
     "output_type": "stream",
     "text": [
      "Checking the null values ...\n",
      "Timestamp                      0\n",
      "Source IP Address              0\n",
      "Destination IP Address         0\n",
      "Source Port                    0\n",
      "Destination Port               0\n",
      "Protocol                       0\n",
      "Packet Length                  0\n",
      "Packet Type                    0\n",
      "Traffic Type                   0\n",
      "Payload Data                   0\n",
      "Malware Indicators             0\n",
      "Anomaly Scores                 0\n",
      "Alerts/Warnings                0\n",
      "Attack Type                    0\n",
      "Attack Signature               0\n",
      "Action Taken                   0\n",
      "Severity Level                 0\n",
      "User Information               0\n",
      "Device Information             0\n",
      "Network Segment                0\n",
      "Geo-location Data              0\n",
      "Proxy Information              0\n",
      "Firewall Logs                  0\n",
      "IDS/IPS Alerts                 0\n",
      "Log Source                     0\n"
     ]
    }
   ],
   "source": [
    "print('Checking the null values ...')\n",
    "for c in df.columns:\n",
    "    null_count = df.select(sum(when(col(c).isNull(), 1).otherwise(0)).alias(\"null_count\")).collect()[0][0]\n",
    "    print(f\"{c:<30} {null_count}\")"
   ]
  },
  {
   "cell_type": "markdown",
   "metadata": {
    "application/vnd.databricks.v1+cell": {
     "cellMetadata": {},
     "inputWidgets": {},
     "nuid": "d8e6d1f0-0252-451a-b2c9-5f947a9a41d1",
     "showTitle": false,
     "tableResultSettingsMap": {},
     "title": ""
    }
   },
   "source": [
    "- Storing the Processed Data into the `Silver` Container in a csv format"
   ]
  },
  {
   "cell_type": "code",
   "execution_count": 0,
   "metadata": {
    "application/vnd.databricks.v1+cell": {
     "cellMetadata": {
      "byteLimit": 2048000,
      "rowLimit": 10000
     },
     "inputWidgets": {},
     "nuid": "e0d95527-ccab-4405-889e-d19562a7d2a1",
     "showTitle": false,
     "tableResultSettingsMap": {},
     "title": ""
    }
   },
   "outputs": [],
   "source": [
    "silver_container_path = \"/mnt/silver/silver_cyber_attack_data.csv\"\n",
    "df.write.mode(\"overwrite\").csv(silver_container_path, header=True)"
   ]
  }
 ],
 "metadata": {
  "application/vnd.databricks.v1+notebook": {
   "dashboards": [],
   "environmentMetadata": {
    "base_environment": "",
    "client": "1"
   },
   "language": "python",
   "notebookMetadata": {
    "pythonIndentUnit": 4
   },
   "notebookName": "Bronze_to_Silver",
   "widgets": {}
  },
  "language_info": {
   "name": "python"
  }
 },
 "nbformat": 4,
 "nbformat_minor": 0
}
