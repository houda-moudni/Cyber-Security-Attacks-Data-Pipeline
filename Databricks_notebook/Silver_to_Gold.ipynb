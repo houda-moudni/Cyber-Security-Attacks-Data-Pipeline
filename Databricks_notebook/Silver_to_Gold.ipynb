{
 "cells": [
  {
   "cell_type": "markdown",
   "metadata": {
    "application/vnd.databricks.v1+cell": {
     "cellMetadata": {},
     "inputWidgets": {},
     "nuid": "694d2c8a-3624-4e50-82d8-74e8c728f875",
     "showTitle": false,
     "tableResultSettingsMap": {},
     "title": ""
    }
   },
   "source": [
    "# Data Enrichment : Silver Layer to Gold Layer"
   ]
  },
  {
   "cell_type": "markdown",
   "metadata": {
    "application/vnd.databricks.v1+cell": {
     "cellMetadata": {},
     "inputWidgets": {},
     "nuid": "05390170-32c2-4fd6-ae6e-1a9c8c617935",
     "showTitle": false,
     "tableResultSettingsMap": {},
     "title": ""
    }
   },
   "source": [
    "**Mount the data csv file from the Azure Storage `StorageAccount` Container `Silver_container`**\n",
    "***"
   ]
  },
  {
   "cell_type": "code",
   "execution_count": 0,
   "metadata": {
    "application/vnd.databricks.v1+cell": {
     "cellMetadata": {},
     "inputWidgets": {},
     "nuid": "140b46aa-bbc0-41a8-b802-39f627ad965c",
     "showTitle": false,
     "tableResultSettingsMap": {},
     "title": ""
    }
   },
   "outputs": [],
   "source": [
    "dbutils.fs.mount(\n",
    "    source='wasbs://silver_container@storage_account.blob.core.windows.net',\n",
    "    mount_point='/mnt/silver_container',\n",
    "    extra_configs={'fs.azure.account.key.storage_account.blob.core.windows.net': dbutils.secrets.get('databricksScope', 'MyStorageAccountKey')}\n",
    ")\n",
    "dbutils.fs.mount(\n",
    "    source='wasbs://gold_container@storage_account.blob.core.windows.net',\n",
    "    mount_point='/mnt/goldgold_container',\n",
    "    extra_configs={'fs.azure.account.key.storage_account.blob.core.windows.net': dbutils.secrets.get('databricksScope', 'MyStorageAccountKey')}\n",
    ")\n"
   ]
  },
  {
   "cell_type": "code",
   "execution_count": 0,
   "metadata": {
    "application/vnd.databricks.v1+cell": {
     "cellMetadata": {
      "byteLimit": 2048000,
      "rowLimit": 10000
     },
     "inputWidgets": {},
     "nuid": "e4d23bba-0494-4a2b-b7dc-8e350fc7ef41",
     "showTitle": false,
     "tableResultSettingsMap": {},
     "title": ""
    }
   },
   "outputs": [
    {
     "data": {
      "text/plain": [
       "[FileInfo(path='dbfs:/mnt/bronze/', name='bronze/', size=0, modificationTime=0),\n",
       " FileInfo(path='dbfs:/mnt/gold/', name='gold/', size=0, modificationTime=0),\n",
       " FileInfo(path='dbfs:/mnt/silver/', name='silver/', size=0, modificationTime=0)]"
      ]
     },
     "execution_count": 1,
     "metadata": {},
     "output_type": "execute_result"
    }
   ],
   "source": [
    "dbutils.fs.ls('/mnt')"
   ]
  },
  {
   "cell_type": "markdown",
   "metadata": {
    "application/vnd.databricks.v1+cell": {
     "cellMetadata": {},
     "inputWidgets": {},
     "nuid": "5e17fd5a-d9a1-4dc3-848f-decb59969b8b",
     "showTitle": false,
     "tableResultSettingsMap": {},
     "title": ""
    }
   },
   "source": [
    "**Spark Initialization**\n",
    "***"
   ]
  },
  {
   "cell_type": "code",
   "execution_count": 0,
   "metadata": {
    "application/vnd.databricks.v1+cell": {
     "cellMetadata": {
      "byteLimit": 2048000,
      "rowLimit": 10000
     },
     "inputWidgets": {},
     "nuid": "1ce3b941-b33a-4a78-ba03-48c38e053bbe",
     "showTitle": false,
     "tableResultSettingsMap": {},
     "title": ""
    }
   },
   "outputs": [
    {
     "data": {
      "text/html": [
       "\n",
       "            <div>\n",
       "                <p><b>SparkSession - hive</b></p>\n",
       "                \n",
       "        <div>\n",
       "            <p><b>SparkContext</b></p>\n",
       "\n",
       "            <p><a href=\"/?o=2327204635270963#setting/sparkui/1029-162955-rcyi5qu3/driver-1072717059406967592\">Spark UI</a></p>\n",
       "\n",
       "            <dl>\n",
       "              <dt>Version</dt>\n",
       "                <dd><code>v3.5.0</code></dd>\n",
       "              <dt>Master</dt>\n",
       "                <dd><code>local[*, 4]</code></dd>\n",
       "              <dt>AppName</dt>\n",
       "                <dd><code>Databricks Shell</code></dd>\n",
       "            </dl>\n",
       "        </div>\n",
       "        \n",
       "            </div>\n",
       "        "
      ],
      "text/plain": [
       "<pyspark.sql.session.SparkSession at 0x7fa20c4abcd0>"
      ]
     },
     "execution_count": 6,
     "metadata": {},
     "output_type": "execute_result"
    }
   ],
   "source": [
    "spark"
   ]
  },
  {
   "cell_type": "markdown",
   "metadata": {
    "application/vnd.databricks.v1+cell": {
     "cellMetadata": {},
     "inputWidgets": {},
     "nuid": "ca5e5ce9-eaf8-481a-b537-6800534eb09f",
     "showTitle": false,
     "tableResultSettingsMap": {},
     "title": ""
    }
   },
   "source": [
    "**Data Enrichment**\n",
    "***\n",
    "- Reading the clean data from the azure data storage `Silver` Container\n",
    "- Add new columns\n",
    "- deleting unecessary columns"
   ]
  },
  {
   "cell_type": "code",
   "execution_count": 0,
   "metadata": {
    "application/vnd.databricks.v1+cell": {
     "cellMetadata": {
      "byteLimit": 2048000,
      "rowLimit": 10000
     },
     "inputWidgets": {},
     "nuid": "a0438a90-09a4-4d67-a70c-1fda79975e59",
     "showTitle": false,
     "tableResultSettingsMap": {},
     "title": ""
    }
   },
   "outputs": [],
   "source": [
    "csv_file_path = \"dbfs:/mnt/silver/silver_cyber_attack_data.csv\"\n",
    "df = spark.read.option(\"delimiter\",\",\").option(\"wholeFile\",True).option(\"multiline\",True).option(\"header\",True).option(\"inferSchema\",True).csv(csv_file_path)"
   ]
  },
  {
   "cell_type": "code",
   "execution_count": 0,
   "metadata": {
    "application/vnd.databricks.v1+cell": {
     "cellMetadata": {
      "byteLimit": 2048000,
      "rowLimit": 10000
     },
     "inputWidgets": {},
     "nuid": "c99db8d5-7392-47b7-93e7-08bce356401a",
     "showTitle": false,
     "tableResultSettingsMap": {},
     "title": ""
    }
   },
   "outputs": [
    {
     "name": "stdout",
     "output_type": "stream",
     "text": [
      "+-------------------+-----------------+----------------------+-----------+----------------+--------+-------------+-----------+------------+--------------------+------------------+--------------+---------------+-----------+----------------+------------+--------------+-------------------+--------------------+---------------+--------------------+-----------------+-------------+--------------+----------+\n",
      "|          Timestamp|Source IP Address|Destination IP Address|Source Port|Destination Port|Protocol|Packet Length|Packet Type|Traffic Type|        Payload Data|Malware Indicators|Anomaly Scores|Alerts/Warnings|Attack Type|Attack Signature|Action Taken|Severity Level|   User Information|  Device Information|Network Segment|   Geo-location Data|Proxy Information|Firewall Logs|IDS/IPS Alerts|Log Source|\n",
      "+-------------------+-----------------+----------------------+-----------+----------------+--------+-------------+-----------+------------+--------------------+------------------+--------------+---------------+-----------+----------------+------------+--------------+-------------------+--------------------+---------------+--------------------+-----------------+-------------+--------------+----------+\n",
      "|2023-05-30 06:33:58|    103.216.15.12|          84.9.164.252|      31225|           17616|    ICMP|          503|       Data|        HTTP|Qui natus odio as...|      IoC Detected|         28.67|             no|    Malware| Known Pattern B|      Logged|           Low|      Reyansh Dugal|Mozilla/5.0 (comp...|      Segment A|  Jamshedpur, Sikkim|     150.9.97.135|     Log Data|       No Data|    Server|\n",
      "|2020-08-26 07:08:30|   78.199.217.198|        66.191.137.154|      17245|           48166|    ICMP|         1174|       Data|        HTTP|Aperiam quos modi...|      IoC Detected|          51.5|             no|    Malware| Known Pattern A|     Blocked|           Low|         Sumer Rana|Mozilla/5.0 (comp...|      Segment B|  Bilaspur, Nagaland|         No Proxy|     Log Data|       No Data|  Firewall|\n",
      "|2022-11-13 08:23:25|     63.79.210.48|         198.219.82.17|      16811|           53600|     UDP|          306|    Control|        HTTP|Perferendis sapie...|      IoC Detected|         87.42|            yes|       DDoS| Known Pattern B|     Ignored|           Low|       Himmat Karpe|Mozilla/5.0 (comp...|      Segment C|   Bokaro, Rajasthan|   114.133.48.179|     Log Data|    Alert Data|  Firewall|\n",
      "|2023-07-02 10:38:46|    163.42.196.10|       101.228.192.255|      20018|           32534|     UDP|          385|       Data|        HTTP|Totam maxime beat...|      No Detection|         15.79|            yes|    Malware| Known Pattern B|     Blocked|        Medium|         Fateh Kibe|Mozilla/5.0 (Maci...|      Segment B|  Jaunpur, Rajasthan|         No Proxy|      No Data|    Alert Data|  Firewall|\n",
      "|2023-07-16 13:11:07|    71.166.185.76|       189.243.174.238|       6131|           26646|     TCP|         1462|       Data|         DNS|Odit nesciunt dol...|      No Detection|          0.52|            yes|       DDoS| Known Pattern B|     Blocked|           Low|       Dhanush Chad|Mozilla/5.0 (comp...|      Segment C|  Anantapur, Tripura|    149.6.110.119|      No Data|    Alert Data|  Firewall|\n",
      "|2022-10-28 13:14:27|    198.102.5.160|       147.190.155.133|      17430|           52805|     UDP|         1423|       Data|        HTTP|Repellat quas ill...|      No Detection|          5.76|             no|    Malware| Known Pattern A|      Logged|        Medium|Zeeshan Viswanathan|Opera/8.58.(X11; ...|      Segment C|Aurangabad, Megha...|         No Proxy|      No Data|       No Data|    Server|\n",
      "|2022-05-16 17:55:43|    97.253.103.59|          77.16.101.53|      26562|           17416|     TCP|          379|       Data|         DNS|Qui numquam inven...|      No Detection|         31.55|             no|       DDoS| Known Pattern B|     Ignored|          High|       Ehsaan Dalal|Opera/9.24.(X11; ...|      Segment A|      Eluru, Manipur|         No Proxy|     Log Data|       No Data|    Server|\n",
      "|2023-02-12 07:13:17|     11.48.99.245|        178.157.14.116|      34489|           20396|    ICMP|         1022|       Data|         DNS|Amet libero optio...|      IoC Detected|         54.05|            yes|  Intrusion| Known Pattern A|      Logged|          High|       Yuvaan Dubey|Mozilla/5.0 (Maci...|      Segment A|Phagwara, Andhra ...|     192.31.159.5|     Log Data|    Alert Data|  Firewall|\n",
      "|2023-06-27 11:02:56|    49.32.208.167|          72.202.237.9|      56296|           20857|     TCP|         1281|    Control|         FTP|Veritatis nihil a...|      IoC Detected|         56.34|            yes|  Intrusion| Known Pattern A|     Blocked|          High|         Zaina Iyer|Mozilla/5.0 (Maci...|      Segment B|     Ambala, Tripura|         No Proxy|     Log Data|    Alert Data|    Server|\n",
      "|2021-08-15 22:29:04|  114.109.149.113|        160.88.194.172|      37918|           50039|     UDP|          224|       Data|        HTTP|Consequatur ipsum...|      No Detection|         16.51|            yes|    Malware| Known Pattern B|     Blocked|        Medium|   Mishti Chaudhuri|Mozilla/5.0 (Wind...|      Segment A|     Rampur, Mizoram|   87.128.245.244|      No Data|       No Data|    Server|\n",
      "+-------------------+-----------------+----------------------+-----------+----------------+--------+-------------+-----------+------------+--------------------+------------------+--------------+---------------+-----------+----------------+------------+--------------+-------------------+--------------------+---------------+--------------------+-----------------+-------------+--------------+----------+\n",
      "only showing top 10 rows\n",
      "\n"
     ]
    }
   ],
   "source": [
    "df.show(10)"
   ]
  },
  {
   "cell_type": "code",
   "execution_count": 0,
   "metadata": {
    "application/vnd.databricks.v1+cell": {
     "cellMetadata": {
      "byteLimit": 2048000,
      "rowLimit": 10000
     },
     "inputWidgets": {},
     "nuid": "9916c5a9-eb2a-4895-95ef-df8d5c25e716",
     "showTitle": false,
     "tableResultSettingsMap": {},
     "title": ""
    }
   },
   "outputs": [],
   "source": [
    "import re\n",
    "from pyspark.sql.functions import udf, date_format, split, col\n",
    "from pyspark.sql.types import StringType, DataType, TimestampType"
   ]
  },
  {
   "cell_type": "code",
   "execution_count": 0,
   "metadata": {
    "application/vnd.databricks.v1+cell": {
     "cellMetadata": {
      "byteLimit": 2048000,
      "rowLimit": 10000
     },
     "inputWidgets": {},
     "nuid": "a08b459a-6a9b-4e64-b0a1-578eadbbbc1d",
     "showTitle": false,
     "tableResultSettingsMap": {},
     "title": ""
    }
   },
   "outputs": [],
   "source": [
    "patterns = [r'Windows',r'Linux',r'Android',r'iPad',r'iPod',r'iPhone',r'Macintosh',]\n",
    "\n",
    "def extract_device_or_os(user_agent):\n",
    "    for pattern in patterns:\n",
    "        match = re.search(pattern, user_agent, re.I) \n",
    "        if match:\n",
    "            return match.group()\n",
    "    return 'Unknown' \n",
    "extract_device_or_os_udf = udf(extract_device_or_os, StringType())"
   ]
  },
  {
   "cell_type": "markdown",
   "metadata": {
    "application/vnd.databricks.v1+cell": {
     "cellMetadata": {},
     "inputWidgets": {},
     "nuid": "c8760d19-324b-4e6c-a9ef-765524d27171",
     "showTitle": false,
     "tableResultSettingsMap": {},
     "title": ""
    }
   },
   "source": [
    "- Transforming `Device Information` column into `Browser` and `Device/OS`"
   ]
  },
  {
   "cell_type": "code",
   "execution_count": 0,
   "metadata": {
    "application/vnd.databricks.v1+cell": {
     "cellMetadata": {
      "byteLimit": 2048000,
      "rowLimit": 10000
     },
     "inputWidgets": {},
     "nuid": "45476618-07ec-4ada-8579-0a5d2aca1bf2",
     "showTitle": false,
     "tableResultSettingsMap": {},
     "title": ""
    }
   },
   "outputs": [],
   "source": [
    "df = df.withColumn('Browser', split(col('Device Information'),'/')[0])\n",
    "df = df.withColumn('Device/OS',extract_device_or_os_udf(df['Device Information']))"
   ]
  },
  {
   "cell_type": "markdown",
   "metadata": {
    "application/vnd.databricks.v1+cell": {
     "cellMetadata": {},
     "inputWidgets": {},
     "nuid": "3f81885c-bece-4a79-a580-5d8d1cf7fc32",
     "showTitle": false,
     "tableResultSettingsMap": {},
     "title": ""
    }
   },
   "source": [
    "- Separating `Timestamp` column into `Date` and `Time`"
   ]
  },
  {
   "cell_type": "code",
   "execution_count": 0,
   "metadata": {
    "application/vnd.databricks.v1+cell": {
     "cellMetadata": {
      "byteLimit": 2048000,
      "rowLimit": 10000
     },
     "inputWidgets": {},
     "nuid": "2b114141-60d4-4958-8ae6-28337d60f828",
     "showTitle": false,
     "tableResultSettingsMap": {},
     "title": ""
    }
   },
   "outputs": [],
   "source": [
    "df = df.withColumn('Date', date_format('Timestamp', 'yyyy-MM-dd'))\n",
    "df = df.withColumn('Time', date_format('Timestamp', 'HH:mm:ss'))"
   ]
  },
  {
   "cell_type": "markdown",
   "metadata": {
    "application/vnd.databricks.v1+cell": {
     "cellMetadata": {},
     "inputWidgets": {},
     "nuid": "188e82ef-8ff8-4b31-8cc9-555d9eceda68",
     "showTitle": false,
     "tableResultSettingsMap": {},
     "title": ""
    }
   },
   "source": [
    "- Droping the unecessary columns"
   ]
  },
  {
   "cell_type": "code",
   "execution_count": 0,
   "metadata": {
    "application/vnd.databricks.v1+cell": {
     "cellMetadata": {
      "byteLimit": 2048000,
      "rowLimit": 10000
     },
     "inputWidgets": {},
     "nuid": "591ac9a4-feff-4ae7-b5ac-55af2cdf3b0e",
     "showTitle": false,
     "tableResultSettingsMap": {},
     "title": ""
    }
   },
   "outputs": [],
   "source": [
    "df = df.drop('Device Information', 'Timestamp')"
   ]
  },
  {
   "cell_type": "code",
   "execution_count": 0,
   "metadata": {
    "application/vnd.databricks.v1+cell": {
     "cellMetadata": {
      "byteLimit": 2048000,
      "rowLimit": 10000
     },
     "inputWidgets": {},
     "nuid": "7333edc4-1ef7-4f7c-868a-f72ef7ff68bb",
     "showTitle": false,
     "tableResultSettingsMap": {},
     "title": ""
    }
   },
   "outputs": [
    {
     "name": "stdout",
     "output_type": "stream",
     "text": [
      "root\n",
      " |-- Source IP Address: string (nullable = true)\n",
      " |-- Destination IP Address: string (nullable = true)\n",
      " |-- Source Port: integer (nullable = true)\n",
      " |-- Destination Port: integer (nullable = true)\n",
      " |-- Protocol: string (nullable = true)\n",
      " |-- Packet Length: integer (nullable = true)\n",
      " |-- Packet Type: string (nullable = true)\n",
      " |-- Traffic Type: string (nullable = true)\n",
      " |-- Payload Data: string (nullable = true)\n",
      " |-- Malware Indicators: string (nullable = true)\n",
      " |-- Anomaly Scores: double (nullable = true)\n",
      " |-- Alerts/Warnings: string (nullable = true)\n",
      " |-- Attack Type: string (nullable = true)\n",
      " |-- Attack Signature: string (nullable = true)\n",
      " |-- Action Taken: string (nullable = true)\n",
      " |-- Severity Level: string (nullable = true)\n",
      " |-- User Information: string (nullable = true)\n",
      " |-- Network Segment: string (nullable = true)\n",
      " |-- Geo-location Data: string (nullable = true)\n",
      " |-- Proxy Information: string (nullable = true)\n",
      " |-- Firewall Logs: string (nullable = true)\n",
      " |-- IDS/IPS Alerts: string (nullable = true)\n",
      " |-- Log Source: string (nullable = true)\n",
      " |-- Browser: string (nullable = true)\n",
      " |-- Device/OS: string (nullable = true)\n",
      " |-- Date: string (nullable = true)\n",
      " |-- Time: string (nullable = true)\n",
      "\n"
     ]
    }
   ],
   "source": [
    "df.printSchema()"
   ]
  },
  {
   "cell_type": "markdown",
   "metadata": {
    "application/vnd.databricks.v1+cell": {
     "cellMetadata": {},
     "inputWidgets": {},
     "nuid": "7f4065b5-36cf-42b9-8e87-c602494a697c",
     "showTitle": false,
     "tableResultSettingsMap": {},
     "title": ""
    }
   },
   "source": [
    "- Storing the aggragted data into the `gold container` in a csv format"
   ]
  },
  {
   "cell_type": "code",
   "execution_count": 0,
   "metadata": {
    "application/vnd.databricks.v1+cell": {
     "cellMetadata": {
      "byteLimit": 2048000,
      "rowLimit": 10000
     },
     "inputWidgets": {},
     "nuid": "65d3aaa3-b26b-4577-a034-a3e01a8f6e89",
     "showTitle": false,
     "tableResultSettingsMap": {},
     "title": ""
    }
   },
   "outputs": [],
   "source": [
    "gold_container_path = \"/mnt/gold/gold_cyber_attack_data.csv\"\n",
    "df.write.mode(\"overwrite\").csv(gold_container_path, header=True)"
   ]
  }
 ],
 "metadata": {
  "application/vnd.databricks.v1+notebook": {
   "dashboards": [],
   "environmentMetadata": {
    "base_environment": "",
    "client": "1"
   },
   "language": "python",
   "notebookMetadata": {
    "pythonIndentUnit": 4
   },
   "notebookName": "Silver_to_Gold",
   "widgets": {}
  },
  "language_info": {
   "name": "python"
  }
 },
 "nbformat": 4,
 "nbformat_minor": 0
}
